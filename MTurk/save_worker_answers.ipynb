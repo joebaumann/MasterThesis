{
 "cells": [
  {
   "source": [
    "# Save Worker Answers from MTurk\n",
    "\n",
    "## Pre-requisites\n",
    "If you haven't already, you'll need to setup MTurk and AWS accounts that are linked together to use MTurk with Python. The MTurk account will be used to post tasks to the MTurk crowd and the AWS accounts will be used to connect to MTurk via API and provide access to any additional AWS resources that are needed to execute your task.\n",
    "\n",
    "1. If you don't have an AWS account already, visit https://aws.amazon.com and create an account you can use for your project.\n",
    "2. If you don't have an MTurk Requester account already, visit https://requester.mturk.com and create a new account.\n",
    "\n",
    "After you've setup your accounts, you will need to link them together. When logged into both the root of your AWS account and your MTurk account, visit https://requester.mturk.com/developer to link them together.\n",
    "\n",
    "From your AWS console create a new AWS IAM User or select an existing one you plan to use. Add the AmazonMechanicalTurkFullAccess policy to your user. Then select the Security Credentials tab and create a new Access Key, copy the Access Key and Secret Access Key for future use.\n",
    "\n",
    "If you haven't installed the awscli yet, install it with pip (pip install awscli) and configure a profile using the access key and secret key above (aws configure --profile mturk). \n",
    "\n",
    "We also recommend installing xmltodict as shown below."
   ],
   "cell_type": "markdown",
   "metadata": {}
  },
  {
   "cell_type": "code",
   "execution_count": null,
   "metadata": {
    "collapsed": false,
    "tags": []
   },
   "outputs": [],
   "source": [
    "!pip install xmltodict"
   ]
  },
  {
   "cell_type": "code",
   "execution_count": null,
   "metadata": {
    "collapsed": false
   },
   "outputs": [],
   "source": [
    "import boto3\n",
    "import xmltodict\n",
    "import json\n",
    "import sys\n",
    "# add parent directory so that config can be imported\n",
    "sys.path.append('..')\n",
    "import config\n",
    "import os\n",
    "from datetime import datetime\n",
    "from pprint import pprint"
   ]
  },
  {
   "cell_type": "code",
   "execution_count": null,
   "metadata": {
    "collapsed": true,
    "tags": []
   },
   "outputs": [],
   "source": [
    "create_hits_in_production = False\n",
    "environments = {\n",
    "    \"production\": {        \n",
    "        \"endpoint\": \"https://mturk-requester.us-east-1.amazonaws.com\",\n",
    "        \"preview\": \"https://www.mturk.com/mturk/preview\"\n",
    "        \n",
    "    },\n",
    "    \"sandbox\": {\n",
    "        \"endpoint\": \"https://mturk-requester-sandbox.us-east-1.amazonaws.com\",\n",
    "        \"preview\": \"https://workersandbox.mturk.com/mturk/preview\"\n",
    "    },\n",
    "}\n",
    "mturk_environment = environments[\"production\"] if create_hits_in_production else environments[\"sandbox\"]\n",
    "\n",
    "# provide the AWS key id and the access key\n",
    "client = boto3.client(\n",
    "    service_name='mturk',\n",
    "    aws_access_key_id='',\n",
    "    aws_secret_access_key='',\n",
    "    region_name='us-east-1',\n",
    "    endpoint_url=mturk_environment['endpoint'],\n",
    ")"
   ]
  },
  {
   "cell_type": "code",
   "execution_count": null,
   "metadata": {
    "collapsed": false,
    "tags": []
   },
   "outputs": [],
   "source": [
    "# This will return your current MTurk balance if you are connected to Production.\n",
    "# If you are connected to the Sandbox it will return $10,000.\n",
    "print(client.get_account_balance()['AvailableBalance'])"
   ]
  },
  {
   "cell_type": "markdown",
   "metadata": {},
   "source": [
    "## Get Results\n",
    "Depending on the task, results will be available anywhere from a few minutes to a few hours. Here we retrieve the status of each HIT and the responses that have been provided by Workers."
   ]
  },
  {
   "cell_type": "markdown",
   "metadata": {},
   "source": [
    "First define the id of the hit whose answers you want to retrieve. Then load all the data from this HIT and save it to a dictionary."
   ]
  },
  {
   "cell_type": "code",
   "execution_count": null,
   "metadata": {
    "tags": []
   },
   "outputs": [],
   "source": [
    "# define the id of the hit whose answers you want to retrieve\n",
    "hit_id = '3RBI0I35YIOUY8RL0HC2XX8GSEFY3Y'\n",
    "#hit_type = 'componentAnnotation'\n",
    "hit_type = 'relationAnnotation'\n",
    "#hit_type = 'payment_for_non_submitted_HIT'\n",
    "\n",
    "hit_answers = {}\n",
    "\n",
    "# Get a list of the Assignments that have been submitted by Workers\n",
    "assignmentsList = client.list_assignments_for_hit(\n",
    "    HITId=hit_id,\n",
    "    AssignmentStatuses=['Submitted', 'Approved', 'Rejected'],\n",
    "    MaxResults=100\n",
    ")\n",
    "all_assignments = assignmentsList['Assignments']\n",
    "\n",
    "for assignment in all_assignments:\n",
    "    #print(\"assignment\")\n",
    "    #print(assignment)\n",
    "\n",
    "    assignment_answer = {}\n",
    "\n",
    "    # Retreive the attributes for each Assignment\n",
    "    assignment_answer['AssignmentId'] = assignment['AssignmentId']\n",
    "    assignment_answer['WorkerId'] = assignment['WorkerId']\n",
    "    assignment_answer['HITId'] = assignment['HITId']\n",
    "    assignment_answer['AssignmentStatus'] = assignment['AssignmentStatus']\n",
    "    \n",
    "    assignment_answer['AutoApprovalTime'] = (assignment['AutoApprovalTime']).isoformat()\n",
    "    assignment_answer['AcceptTime'] = (assignment['AcceptTime']).isoformat()\n",
    "    assignment_answer['SubmitTime'] = (assignment['SubmitTime']).isoformat()\n",
    "    try:\n",
    "        assignment_answer['ApprovalTime'] = (assignment['ApprovalTime']).isoformat()\n",
    "    except:\n",
    "        assignment_answer['ApprovalTime'] = \"NOT YET APPROVED\"\n",
    "\n",
    "\n",
    "    # Retrieve the value submitted by the Worker from the XML\n",
    "    answer_dict = xmltodict.parse(assignment['Answer'])\n",
    "\n",
    "    worker_answer = {}\n",
    "\n",
    "    if hit_type in ['componentAnnotation', 'relationAnnotation']:\n",
    "            \n",
    "        for answer in answer_dict['QuestionFormAnswers']['Answer']:\n",
    "            worker_answer[answer['QuestionIdentifier']] = answer['FreeText']\n",
    "    \n",
    "    elif hit_type == 'payment_for_non_submitted_HIT':\n",
    "        print(\"\")\n",
    "        worker_answer = answer_dict['QuestionFormAnswers']['Answer'][\"FreeText\"]\n",
    "        print(\"worker input which should be his id: \", worker_answer)\n",
    "        print(\"\")\n",
    "\n",
    "    assignment_answer['worker_answer'] = worker_answer\n",
    "    hit_answers[assignment['AssignmentId']] = assignment_answer\n",
    "\n",
    "\n",
    "    print(\"assignment_answer: \", assignment_answer)\n",
    "    print(\"\")\n",
    "print(\"number of assignments: \", len(hit_answers))"
   ]
  },
  {
   "cell_type": "markdown",
   "metadata": {},
   "source": [
    "Then save the created dictionary in a txt file whose name contains the id of the hit."
   ]
  },
  {
   "cell_type": "code",
   "execution_count": null,
   "metadata": {
    "tags": []
   },
   "outputs": [],
   "source": [
    "#save the asnwers in txt file\n",
    "filename = 'H1a_worker_answers.txt'\n",
    "if create_hits_in_production:\n",
    "    environment_name = 'production'\n",
    "else:\n",
    "    environment_name = 'sandbox'\n",
    "environment_name = 'production'\n",
    "\n",
    "with open(os.path.join('WorkerAnswers',environment_name, hit_type, filename), \"w\") as f:\n",
    "    f.write(json.dumps(hit_answers,indent=2))\n"
   ]
  }
 ],
 "metadata": {
  "kernelspec": {
   "display_name": "Python 3.7.4 64-bit ('3.7.4': pyenv)",
   "language": "python",
   "name": "python37464bit374pyenv5632faa9224e41c09937c28c91bfcd9c"
  },
  "language_info": {
   "codemirror_mode": {
    "name": "ipython",
    "version": 3
   },
   "file_extension": ".py",
   "mimetype": "text/x-python",
   "name": "python",
   "nbconvert_exporter": "python",
   "pygments_lexer": "ipython3",
   "version": "3.7.4-final"
  }
 },
 "nbformat": 4,
 "nbformat_minor": 2
}